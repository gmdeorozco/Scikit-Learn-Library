{
  "cells": [
    {
      "cell_type": "markdown",
      "metadata": {
        "id": "view-in-github",
        "colab_type": "text"
      },
      "source": [
        "<a href=\"https://colab.research.google.com/github/gmdeorozco/Scikit-Learn-Library/blob/main/MACHOTE_tree_based_classification_models.ipynb\" target=\"_parent\"><img src=\"https://colab.research.google.com/assets/colab-badge.svg\" alt=\"Open In Colab\"/></a>"
      ]
    },
    {
      "cell_type": "markdown",
      "metadata": {
        "id": "JRJgob3pkXYP"
      },
      "source": [
        "<img src=\"https://rhyme.com/assets/img/logo-dark.png\" align=center></img>\n",
        "<h2 align=\"center\">Predict Employee Churn with Decision Trees and Random Forests</h2>"
      ]
    },
    {
      "cell_type": "markdown",
      "metadata": {
        "id": "Hc6aTSkvkXYR"
      },
      "source": [
        " "
      ]
    },
    {
      "cell_type": "markdown",
      "source": [
        "# 1. Install Pandas Profiling and import libraries"
      ],
      "metadata": {
        "id": "hb_YbK_kyjp1"
      }
    },
    {
      "cell_type": "code",
      "source": [
        "#install pandas profiling"
      ],
      "metadata": {
        "id": "PveS9W9TlHUe"
      },
      "execution_count": null,
      "outputs": []
    },
    {
      "cell_type": "code",
      "execution_count": null,
      "metadata": {
        "id": "k4hsiUZqkXYS"
      },
      "outputs": [],
      "source": [
        "#install libraries and warning handler"
      ]
    },
    {
      "cell_type": "code",
      "execution_count": null,
      "metadata": {
        "id": "gg1T9rvNkXYT"
      },
      "outputs": [],
      "source": [
        "#set figure size to 12,8"
      ]
    },
    {
      "cell_type": "markdown",
      "metadata": {
        "id": "7X96DURakXYU"
      },
      "source": [
        "# 2. Exploratory Data Analysis\n",
        "---"
      ]
    },
    {
      "cell_type": "code",
      "source": [
        "#  import employee_data.csv"
      ],
      "metadata": {
        "id": "5xdnyL2hktR2"
      },
      "execution_count": 2,
      "outputs": []
    },
    {
      "cell_type": "code",
      "source": [],
      "metadata": {
        "id": "9CKjBA0-zWF7"
      },
      "execution_count": null,
      "outputs": []
    },
    {
      "cell_type": "code",
      "execution_count": 3,
      "metadata": {
        "id": "lMxaQoTvkXYV"
      },
      "outputs": [],
      "source": [
        "#Create report with pandas profiling"
      ]
    },
    {
      "cell_type": "markdown",
      "metadata": {
        "id": "poJs0AY3kXYV"
      },
      "source": [
        "# 3. Encode Categorical Features\n",
        "---"
      ]
    },
    {
      "cell_type": "code",
      "execution_count": 4,
      "metadata": {
        "id": "1I2TSPgxkXYV"
      },
      "outputs": [],
      "source": [
        "# Create a comparison of quits per salary bracket"
      ]
    },
    {
      "cell_type": "code",
      "execution_count": 5,
      "metadata": {
        "id": "JTetbLMykXYV"
      },
      "outputs": [],
      "source": [
        "# Create a comparison of quits per department"
      ]
    },
    {
      "cell_type": "code",
      "execution_count": 6,
      "metadata": {
        "id": "e5C36qcikXYW"
      },
      "outputs": [],
      "source": [
        "# Create and add dummies for department and salary"
      ]
    },
    {
      "cell_type": "code",
      "execution_count": null,
      "metadata": {
        "id": "sfWED946kXYX"
      },
      "outputs": [],
      "source": [
        "# Apply ClassBalance with ggplot and figure size 12,8"
      ]
    },
    {
      "cell_type": "markdown",
      "metadata": {
        "id": "bON9FMQukXYX"
      },
      "source": [
        "#4. Create Training and Test Sets\n",
        "---"
      ]
    },
    {
      "cell_type": "code",
      "execution_count": null,
      "metadata": {
        "id": "vHJ8PuUNkXYX"
      },
      "outputs": [],
      "source": [
        "#define X and y"
      ]
    },
    {
      "cell_type": "code",
      "execution_count": null,
      "metadata": {
        "id": "pnh3B-DwkXYX"
      },
      "outputs": [],
      "source": [
        "#separate training and test sets"
      ]
    },
    {
      "cell_type": "markdown",
      "metadata": {
        "id": "L2PHI0jmkXYY"
      },
      "source": [
        "#5.Build an Interactive Decision Tree Classifier\n",
        "---"
      ]
    },
    {
      "cell_type": "markdown",
      "metadata": {
        "id": "n5DxhY0KkXYY"
      },
      "source": [
        "Supervised learning: \n",
        "- The inputs are random variables $X = X_1, ..., X_p$;\n",
        "- The output is a random variable $Y.$"
      ]
    },
    {
      "cell_type": "markdown",
      "metadata": {
        "id": "prp0Hk1ykXYY"
      },
      "source": [
        "- Data is a finite set $$\\mathbb{L}=\\{(x_i,y_i)|i=0, ..., N-1\\}$$\n",
        "where $x_i \\in X = X_1 \\times ... \\times X_p$ and $y_i \\in y$ are randomly drawn from $P_{X,Y}.$\n",
        "\n",
        "E.g., $(x_i,y_i)=((\\text{salary = low, department = sales, ...}),\\text{quit = 1})$\n",
        "\n",
        "- The goal is to find a model $\\varphi_\\mathbb{L}: X \\mapsto y$ minimizing $$\\text{Err}(\\varphi_\\mathbb{L}) = \\mathbb{E}_{X,Y}\\{L(Y, \\varphi_\\mathbb{L}(X))\\}.$$"
      ]
    },
    {
      "cell_type": "markdown",
      "metadata": {
        "id": "VhGK2SvCkXYY"
      },
      "source": [
        "About:\n",
        " \n",
        " - Decision trees are non-parametric models which can model arbitrarily complex relations between inputs and outputs, without any a priori assumption\n",
        " \n",
        "- Decision trees handle numeric and categorical variables\n",
        "\n",
        "- They implement feature selection, making them robust to noisy features (to an extent)\n",
        "\n",
        "- Robust to outliers or errors in labels\n",
        "\n",
        "- Easily interpretable by even non-ML practioners."
      ]
    },
    {
      "cell_type": "markdown",
      "metadata": {
        "id": "H_6dFm-akXYY"
      },
      "source": [
        "#### Decision trees: partitioning the feature space:"
      ]
    },
    {
      "cell_type": "markdown",
      "metadata": {
        "id": "xhp8Y0nskXYY"
      },
      "source": [
        "![partition](assets/images/partition-feature-space.png)\n",
        "\n",
        "- Decision trees generally have low bias but have high variance.\n",
        "- We will solve the high variance problem in Task 8."
      ]
    },
    {
      "cell_type": "code",
      "execution_count": 7,
      "metadata": {
        "id": "fOEIvE7pkXYZ"
      },
      "outputs": [],
      "source": [
        "#import the Tree Related Libraries"
      ]
    },
    {
      "cell_type": "code",
      "execution_count": 8,
      "metadata": {
        "scrolled": false,
        "id": "4LQ68GwUkXYZ"
      },
      "outputs": [],
      "source": [
        "#generate interactive decision Tree"
      ]
    },
    {
      "cell_type": "markdown",
      "metadata": {
        "id": "j98MqxmvkXYZ"
      },
      "source": [
        "#6. Build an Interactive Random Forest Classifier\n",
        "---"
      ]
    },
    {
      "cell_type": "markdown",
      "metadata": {
        "id": "4FUz_iLHkXYZ"
      },
      "source": [
        "Although randomization increases bias, it is possible to get a reduction in variance of the ensemble. Random forests are one of the most robust machine learning algorithms for a variety of problems.\n",
        "\n",
        "- Randomization and averaging lead to a reduction in variance and improve accuracy\n",
        "- The implementations are parallelizable\n",
        "- Memory consumption and training time can be reduced by bootstrapping\n",
        "- Sampling features and not solely sampling examples is crucial to improving accuracy"
      ]
    },
    {
      "cell_type": "code",
      "execution_count": 9,
      "metadata": {
        "id": "EEAo1l_TkXYZ"
      },
      "outputs": [],
      "source": [
        "#build an interactive random forest classifier"
      ]
    },
    {
      "cell_type": "markdown",
      "metadata": {
        "id": "HGLxfKEIkXYa"
      },
      "source": [
        " "
      ]
    },
    {
      "cell_type": "markdown",
      "metadata": {
        "id": "q7yR1FQlkXYa"
      },
      "source": [
        "#7. Feature Importance and Evaluation Metrics\n",
        "---"
      ]
    },
    {
      "cell_type": "code",
      "execution_count": 10,
      "metadata": {
        "id": "QFKOVQ2FkXYa"
      },
      "outputs": [],
      "source": [
        "# Perform the Feature importance\n"
      ]
    },
    {
      "cell_type": "code",
      "execution_count": 11,
      "metadata": {
        "id": "Yl70-X1kkXYa"
      },
      "outputs": [],
      "source": [
        "#ROCAUC\n"
      ]
    },
    {
      "cell_type": "code",
      "execution_count": 12,
      "metadata": {
        "id": "-f5OoTWckXYi"
      },
      "outputs": [],
      "source": [
        "#ROCAUC 2"
      ]
    },
    {
      "cell_type": "markdown",
      "metadata": {
        "id": "QPx4tx5nkXYj"
      },
      "source": [
        " "
      ]
    },
    {
      "cell_type": "markdown",
      "metadata": {
        "id": "eI6I9_CNkXYj"
      },
      "source": [
        "### Optional: Comparison with Logistic Regression Classifier\n",
        "---"
      ]
    },
    {
      "cell_type": "code",
      "execution_count": 13,
      "metadata": {
        "id": "6Ax7NG5ikXYj"
      },
      "outputs": [],
      "source": [
        "# do the comparisson"
      ]
    },
    {
      "cell_type": "code",
      "source": [],
      "metadata": {
        "id": "HlC7ERTmEjGD"
      },
      "execution_count": null,
      "outputs": []
    }
  ],
  "metadata": {
    "kernelspec": {
      "display_name": "Python 3",
      "language": "python",
      "name": "python3"
    },
    "language_info": {
      "codemirror_mode": {
        "name": "ipython",
        "version": 3
      },
      "file_extension": ".py",
      "mimetype": "text/x-python",
      "name": "python",
      "nbconvert_exporter": "python",
      "pygments_lexer": "ipython3",
      "version": "3.6.8"
    },
    "colab": {
      "provenance": [],
      "include_colab_link": true
    }
  },
  "nbformat": 4,
  "nbformat_minor": 0
}